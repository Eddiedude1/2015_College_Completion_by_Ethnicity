{
 "cells": [
  {
   "cell_type": "code",
   "execution_count": 1,
   "metadata": {},
   "outputs": [],
   "source": [
    "# A blank canvas..."
   ]
  },
  {
   "cell_type": "code",
   "execution_count": 2,
   "metadata": {},
   "outputs": [],
   "source": [
    "import json\n",
    "import urllib\n",
    "import pandas as pd\n",
    "import numpy as np\n",
    "import requests\n",
    "import json\n",
    "import re\n",
    "import matplotlib.pyplot as plt\n",
    "import time\n",
    "from sklearn.preprocessing import StandardScaler\n",
    "\n",
    "import seaborn as sns\n",
    "from scipy.cluster.hierarchy import dendrogram, linkage\n",
    "from scipy.cluster.hierarchy import cophenet, fcluster\n",
    "from scipy.spatial.distance import pdist\n",
    "\n",
    "%matplotlib inline\n",
    "%config InlineBackend.figure_format = 'retina'"
   ]
  },
  {
   "cell_type": "code",
   "execution_count": 3,
   "metadata": {},
   "outputs": [],
   "source": [
    "response = requests.get('https://api.data.gov/ed//collegescorecard/v1/schools?fields=school.name,id,2015.student.demographics.race_ethnicity.white,2015.student.demographics.race_ethnicity.black,2015.student.demographics.race_ethnicity.hispanic,2015.student.demographics.race_ethnicity.asian,2015.student.demographics.race_ethnicity.aian,2015.student.demographics.race_ethnicity.nhpi,2015.student.demographics.race_ethnicity.two_or_more,2015.student.demographics.race_ethnicity.non_resident_alien,2015.student.demographics.race_ethnicity.unknown,2015.student.demographics.race_ethnicity.white_non_hispanic,2015.student.demographics.race_ethnicity.black_non_hispanic,2015.student.demographics.race_ethnicity.asian_pacific_islander&sort=2015.completion.rate_suppressed.overall:desc&page=1&api_key=pZql7qxSKct01tqibktdeudkyJcFlO3B6HVFfZ4x')\n"
   ]
  },
  {
   "cell_type": "code",
   "execution_count": 5,
   "metadata": {},
   "outputs": [],
   "source": [
    "results = json.loads(response.text)"
   ]
  },
  {
   "cell_type": "code",
   "execution_count": 6,
   "metadata": {},
   "outputs": [
    {
     "data": {
      "text/plain": [
       "dict_keys(['metadata', 'results'])"
      ]
     },
     "execution_count": 6,
     "metadata": {},
     "output_type": "execute_result"
    }
   ],
   "source": [
    "results.keys()"
   ]
  },
  {
   "cell_type": "code",
   "execution_count": 7,
   "metadata": {},
   "outputs": [
    {
     "data": {
      "text/plain": [
       "{'page': 1, 'per_page': 20, 'total': 7593}"
      ]
     },
     "execution_count": 7,
     "metadata": {},
     "output_type": "execute_result"
    }
   ],
   "source": [
    "results['metadata']"
   ]
  },
  {
   "cell_type": "code",
   "execution_count": 8,
   "metadata": {
    "scrolled": true
   },
   "outputs": [
    {
     "data": {
      "text/plain": [
       "['2015.student.demographics.race_ethnicity.aian',\n",
       " '2015.student.demographics.race_ethnicity.asian',\n",
       " '2015.student.demographics.race_ethnicity.asian_pacific_islander',\n",
       " '2015.student.demographics.race_ethnicity.black',\n",
       " '2015.student.demographics.race_ethnicity.black_non_hispanic',\n",
       " '2015.student.demographics.race_ethnicity.hispanic',\n",
       " '2015.student.demographics.race_ethnicity.nhpi',\n",
       " '2015.student.demographics.race_ethnicity.non_resident_alien',\n",
       " '2015.student.demographics.race_ethnicity.two_or_more',\n",
       " '2015.student.demographics.race_ethnicity.unknown',\n",
       " '2015.student.demographics.race_ethnicity.white',\n",
       " '2015.student.demographics.race_ethnicity.white_non_hispanic',\n",
       " 'id',\n",
       " 'school.name']"
      ]
     },
     "execution_count": 8,
     "metadata": {},
     "output_type": "execute_result"
    }
   ],
   "source": [
    "key_titles = list(results['results'][0].keys())\n",
    "key_titles.sort()\n",
    "key_titles"
   ]
  },
  {
   "cell_type": "code",
   "execution_count": 9,
   "metadata": {},
   "outputs": [],
   "source": [
    "data = {}\n",
    "            \n",
    "data['school'] = [dic[key_titles[13]] for dic in results['results']]\n",
    "data['school_id'] = [dic[key_titles[12]] for dic in results['results']]\n",
    "data['aian'] = [dic[key_titles[0]] for dic in results['results']]\n",
    "data['asian'] = [dic[key_titles[1]] for dic in results['results']]\n",
    "data['asian_pacific_islander'] = [dic[key_titles[2]] for dic in results['results']]\n",
    "data['black'] = [dic[key_titles[3]] for dic in results['results']]\n",
    "data['black_non_hispanic'] = [dic[key_titles[4]] for dic in results['results']]\n",
    "data['hispanic'] = [dic[key_titles[5]] for dic in results['results']]\n",
    "data['nhpi'] = [dic[key_titles[6]] for dic in results['results']]\n",
    "data['non_resident_alien'] = [dic[key_titles[7]] for dic in results['results']]\n",
    "data['two_or_more'] = [dic[key_titles[8]] for dic in results['results']]\n",
    "data['unknown'] = [dic[key_titles[9]] for dic in results['results']]\n",
    "data['white'] = [dic[key_titles[10]] for dic in results['results']]\n",
    "data['white_non_hispanic'] = [dic[key_titles[11]] for dic in results['results']]\n",
    " \n",
    "foo = pd.DataFrame.from_dict(data)"
   ]
  },
  {
   "cell_type": "code",
   "execution_count": 10,
   "metadata": {},
   "outputs": [
    {
     "data": {
      "text/plain": [
       "['aian',\n",
       " 'asian',\n",
       " 'asian_pacific_islander',\n",
       " 'black',\n",
       " 'black_non_hispanic',\n",
       " 'hispanic',\n",
       " 'nhpi',\n",
       " 'non_resident_alien',\n",
       " 'school',\n",
       " 'school_id',\n",
       " 'two_or_more',\n",
       " 'unknown',\n",
       " 'white',\n",
       " 'white_non_hispanic']"
      ]
     },
     "execution_count": 10,
     "metadata": {},
     "output_type": "execute_result"
    }
   ],
   "source": [
    "foo.columns.tolist()"
   ]
  },
  {
   "cell_type": "code",
   "execution_count": 11,
   "metadata": {},
   "outputs": [],
   "source": [
    "api = 'https://api.data.gov/ed/collegescorecard/v1/schools?fields=school.name,id,2015.student.demographics.race_ethnicity.white,2015.student.demographics.race_ethnicity.black,2015.student.demographics.race_ethnicity.hispanic,2015.student.demographics.race_ethnicity.asian,2015.student.demographics.race_ethnicity.aian,2015.student.demographics.race_ethnicity.nhpi,2015.student.demographics.race_ethnicity.two_or_more,2015.student.demographics.race_ethnicity.non_resident_alien,2015.student.demographics.race_ethnicity.unknown,2015.student.demographics.race_ethnicity.white_non_hispanic,2015.student.demographics.race_ethnicity.black_non_hispanic,2015.student.demographics.race_ethnicity.asian_pacific_islander&sort=2015.completion.rate_suppressed.overall:desc'\n",
    "api_key = 'pZql7qxSKct01tqibktdeudkyJcFlO3B6HVFfZ4x'"
   ]
  },
  {
   "cell_type": "code",
   "execution_count": 24,
   "metadata": {},
   "outputs": [],
   "source": [
    "# creating a dictionary and coverting to a DataFrame\n",
    "# values: the data in results['results'] was a list of dictionaries so iterated through each dictionary to pull\n",
    "#  specidic items out.  \n",
    "key_titles = list(results['results'][0].keys())\n",
    "key_titles.sort()\n",
    "\n",
    "def comp_by_race(api, key):\n",
    "    data = {}\n",
    "    for i in range(497):  # 7593 pages of data with 20 rows per page\n",
    "        response = requests.get(api + '&page=' + str(i) + '&api_key=' + key) \n",
    "        print(i)\n",
    "        if response.status_code == 200:\n",
    "            results = json.loads(response.text)\n",
    "            if i == 0:\n",
    "                try:\n",
    "                    data['school'] = [dic[key_titles[13]] for dic in results['results']]\n",
    "                    data['school_id'] = [dic[key_titles[12]] for dic in results['results']]\n",
    "                    data['aian'] = [dic[key_titles[0]] for dic in results['results']]\n",
    "                    data['asian'] = [dic[key_titles[1]] for dic in results['results']]\n",
    "                    data['asian_pacific_islander'] = [dic[key_titles[2]] for dic in results['results']]\n",
    "                    data['black'] = [dic[key_titles[3]] for dic in results['results']]\n",
    "                    data['black_non_hispanic'] = [dic[key_titles[4]] for dic in results['results']]\n",
    "                    data['hispanic'] = [dic[key_titles[5]] for dic in results['results']]\n",
    "                    data['nhpi'] = [dic[key_titles[6]] for dic in results['results']]\n",
    "                    data['non_resident_alien'] = [dic[key_titles[7]] for dic in results['results']]\n",
    "                    data['two_or_more'] = [dic[key_titles[8]] for dic in results['results']]\n",
    "                    data['unknown'] = [dic[key_titles[9]] for dic in results['results']]\n",
    "                    data['white'] = [dic[key_titles[10]] for dic in results['results']]\n",
    "                    data['white_non_hispanic'] = [dic[key_titles[11]] for dic in results['results']]\n",
    "                except:\n",
    "                    print('error')\n",
    "                    break\n",
    "            else:\n",
    "                try:\n",
    "                    data['school'] += [dic[key_titles[13]] for dic in results['results']]\n",
    "                    data['school_id'] += [dic[key_titles[12]] for dic in results['results']]\n",
    "                    data['aian'] += [dic[key_titles[0]] for dic in results['results']]\n",
    "                    data['asian'] += [dic[key_titles[1]] for dic in results['results']]\n",
    "                    data['asian_pacific_islander'] += [dic[key_titles[2]] for dic in results['results']]\n",
    "                    data['black'] += [dic[key_titles[3]] for dic in results['results']]\n",
    "                    data['black_non_hispanic'] += [dic[key_titles[4]] for dic in results['results']]\n",
    "                    data['hispanic'] += [dic[key_titles[5]] for dic in results['results']]\n",
    "                    data['nhpi'] += [dic[key_titles[6]] for dic in results['results']]\n",
    "                    data['non_resident_alien'] += [dic[key_titles[7]] for dic in results['results']]\n",
    "                    data['two_or_more'] += [dic[key_titles[8]] for dic in results['results']]\n",
    "                    data['unknown'] += [dic[key_titles[9]] for dic in results['results']]\n",
    "                    data['white'] += [dic[key_titles[10]] for dic in results['results']]\n",
    "                    data['white_non_hispanic'] += [dic[key_titles[11]] for dic in results['results']]\n",
    "                except:\n",
    "                    print('error')\n",
    "                    break\n",
    "                    \n",
    "        else: \n",
    "            print('Bad Response Code')\n",
    "\n",
    "        df = pd.DataFrame.from_dict(data)\n",
    "        df.to_csv('collegescorecard.csv', mode='a', header=False)\n",
    "        time.sleep(1)\n",
    "    return df"
   ]
  },
  {
   "cell_type": "code",
   "execution_count": 37,
   "metadata": {
    "scrolled": true
   },
   "outputs": [],
   "source": [
    "# comp_by_race(api, api_key)"
   ]
  },
  {
   "cell_type": "code",
   "execution_count": 10,
   "metadata": {},
   "outputs": [
    {
     "name": "stdout",
     "output_type": "stream",
     "text": [
      "CollegeScorecardDataDictionary.xlsx collegescorecard.csv\r\n"
     ]
    }
   ],
   "source": [
    "!ls ../data/"
   ]
  },
  {
   "cell_type": "code",
   "execution_count": 17,
   "metadata": {},
   "outputs": [],
   "source": [
    "# Reading in the csv file to double check the data...it matches the dataframe with over 1 million rows\n",
    "df = pd.read_csv('../data/collegescorecard.csv', index_col=0)"
   ]
  },
  {
   "cell_type": "code",
   "execution_count": 18,
   "metadata": {},
   "outputs": [
    {
     "data": {
      "text/plain": [
       "(7593, 11)"
      ]
     },
     "execution_count": 18,
     "metadata": {},
     "output_type": "execute_result"
    }
   ],
   "source": [
    "# Way to many rows of data since the function was appending the data every iteration\n",
    "df.shape"
   ]
  },
  {
   "cell_type": "code",
   "execution_count": 19,
   "metadata": {},
   "outputs": [
    {
     "data": {
      "text/html": [
       "<div>\n",
       "<style scoped>\n",
       "    .dataframe tbody tr th:only-of-type {\n",
       "        vertical-align: middle;\n",
       "    }\n",
       "\n",
       "    .dataframe tbody tr th {\n",
       "        vertical-align: top;\n",
       "    }\n",
       "\n",
       "    .dataframe thead th {\n",
       "        text-align: right;\n",
       "    }\n",
       "</style>\n",
       "<table border=\"1\" class=\"dataframe\">\n",
       "  <thead>\n",
       "    <tr style=\"text-align: right;\">\n",
       "      <th></th>\n",
       "      <th>aian</th>\n",
       "      <th>asian</th>\n",
       "      <th>black</th>\n",
       "      <th>hispanic</th>\n",
       "      <th>nhpi</th>\n",
       "      <th>non_resident_alien</th>\n",
       "      <th>school</th>\n",
       "      <th>school_id</th>\n",
       "      <th>two_or_more</th>\n",
       "      <th>unknown</th>\n",
       "      <th>white</th>\n",
       "    </tr>\n",
       "  </thead>\n",
       "  <tbody>\n",
       "    <tr>\n",
       "      <th>0</th>\n",
       "      <td>0.0</td>\n",
       "      <td>0.0000</td>\n",
       "      <td>0.0000</td>\n",
       "      <td>0.0000</td>\n",
       "      <td>0.0000</td>\n",
       "      <td>0.0</td>\n",
       "      <td>Beautiful You School of Nail Technology</td>\n",
       "      <td>481261</td>\n",
       "      <td>0.0000</td>\n",
       "      <td>0.0000</td>\n",
       "      <td>1.0000</td>\n",
       "    </tr>\n",
       "    <tr>\n",
       "      <th>1</th>\n",
       "      <td>0.0</td>\n",
       "      <td>0.0164</td>\n",
       "      <td>0.1639</td>\n",
       "      <td>0.7377</td>\n",
       "      <td>0.0164</td>\n",
       "      <td>0.0</td>\n",
       "      <td>GDS Institute</td>\n",
       "      <td>486099</td>\n",
       "      <td>0.0000</td>\n",
       "      <td>0.0164</td>\n",
       "      <td>0.0492</td>\n",
       "    </tr>\n",
       "    <tr>\n",
       "      <th>2</th>\n",
       "      <td>0.0</td>\n",
       "      <td>0.0000</td>\n",
       "      <td>0.0488</td>\n",
       "      <td>0.4146</td>\n",
       "      <td>0.0000</td>\n",
       "      <td>0.0</td>\n",
       "      <td>The Fab School</td>\n",
       "      <td>483230</td>\n",
       "      <td>0.0000</td>\n",
       "      <td>0.0244</td>\n",
       "      <td>0.5122</td>\n",
       "    </tr>\n",
       "    <tr>\n",
       "      <th>3</th>\n",
       "      <td>0.0</td>\n",
       "      <td>0.1058</td>\n",
       "      <td>0.4327</td>\n",
       "      <td>0.0769</td>\n",
       "      <td>0.0000</td>\n",
       "      <td>0.0</td>\n",
       "      <td>Parisian Spa Institute</td>\n",
       "      <td>483896</td>\n",
       "      <td>0.0865</td>\n",
       "      <td>0.0000</td>\n",
       "      <td>0.2981</td>\n",
       "    </tr>\n",
       "    <tr>\n",
       "      <th>4</th>\n",
       "      <td>0.0</td>\n",
       "      <td>0.0000</td>\n",
       "      <td>0.8462</td>\n",
       "      <td>0.0000</td>\n",
       "      <td>0.0000</td>\n",
       "      <td>0.0</td>\n",
       "      <td>Hair Academy</td>\n",
       "      <td>462026</td>\n",
       "      <td>0.0000</td>\n",
       "      <td>0.0000</td>\n",
       "      <td>0.1538</td>\n",
       "    </tr>\n",
       "  </tbody>\n",
       "</table>\n",
       "</div>"
      ],
      "text/plain": [
       "   aian   asian   black  hispanic    nhpi  non_resident_alien  \\\n",
       "0   0.0  0.0000  0.0000    0.0000  0.0000                 0.0   \n",
       "1   0.0  0.0164  0.1639    0.7377  0.0164                 0.0   \n",
       "2   0.0  0.0000  0.0488    0.4146  0.0000                 0.0   \n",
       "3   0.0  0.1058  0.4327    0.0769  0.0000                 0.0   \n",
       "4   0.0  0.0000  0.8462    0.0000  0.0000                 0.0   \n",
       "\n",
       "                                    school  school_id  two_or_more  unknown  \\\n",
       "0  Beautiful You School of Nail Technology     481261       0.0000   0.0000   \n",
       "1                            GDS Institute     486099       0.0000   0.0164   \n",
       "2                           The Fab School     483230       0.0000   0.0244   \n",
       "3                   Parisian Spa Institute     483896       0.0865   0.0000   \n",
       "4                             Hair Academy     462026       0.0000   0.0000   \n",
       "\n",
       "    white  \n",
       "0  1.0000  \n",
       "1  0.0492  \n",
       "2  0.5122  \n",
       "3  0.2981  \n",
       "4  0.1538  "
      ]
     },
     "execution_count": 19,
     "metadata": {},
     "output_type": "execute_result"
    }
   ],
   "source": [
    "df.head()"
   ]
  },
  {
   "cell_type": "code",
   "execution_count": 20,
   "metadata": {},
   "outputs": [],
   "source": [
    "# changing the column names\n",
    "df.columns = ['aian',\n",
    " 'asian',\n",
    " 'black',\n",
    " 'hispanic',\n",
    " 'nhpi',\n",
    " 'non_resident_alien',\n",
    " 'school',\n",
    " 'school_id',\n",
    " 'two_or_more',\n",
    " 'unknown',\n",
    " 'white']"
   ]
  },
  {
   "cell_type": "code",
   "execution_count": 34,
   "metadata": {},
   "outputs": [],
   "source": [
    "# Noticed several duplicate values.  Was not sure if 7593 was pages or rows.\n",
    "df.drop_duplicates(keep='first',inplace=True)"
   ]
  },
  {
   "cell_type": "code",
   "execution_count": 35,
   "metadata": {},
   "outputs": [],
   "source": [
    "# Overwriting original .csv file with no duplicates\n",
    "df.to_csv('collegescorecard.csv')"
   ]
  },
  {
   "cell_type": "code",
   "execution_count": 23,
   "metadata": {},
   "outputs": [
    {
     "data": {
      "text/plain": [
       "aian                  735\n",
       "asian                 735\n",
       "black                 735\n",
       "hispanic              735\n",
       "nhpi                  735\n",
       "non_resident_alien    735\n",
       "school                  0\n",
       "school_id               0\n",
       "two_or_more           735\n",
       "unknown               735\n",
       "white                 735\n",
       "dtype: int64"
      ]
     },
     "execution_count": 23,
     "metadata": {},
     "output_type": "execute_result"
    }
   ],
   "source": [
    "# 753 null values for all features other than 'school' and 'school_id' --> going to drop\n",
    "df.isnull().sum()"
   ]
  },
  {
   "cell_type": "code",
   "execution_count": 24,
   "metadata": {},
   "outputs": [
    {
     "data": {
      "text/plain": [
       "(735, 11)"
      ]
     },
     "execution_count": 24,
     "metadata": {},
     "output_type": "execute_result"
    }
   ],
   "source": [
    "# Double checking that all the null values are on the same rows, since the shape length is the same\n",
    "#  and there were no errors, this verifys that they were all in the same rows\n",
    "df[ (df['aian'].isnull()) \n",
    "   & (df['asian'].isnull()) \n",
    "   & (df['black'].isnull()) \n",
    "   & (df['hispanic'].isnull())\n",
    "   & (df['nhpi'].isnull())\n",
    "   & (df['non_resident_alien'].isnull())\n",
    "   & (df['two_or_more'].isnull())\n",
    "   & (df['unknown'].isnull())\n",
    "   & (df['white'].isnull())\n",
    "  ].shape"
   ]
  },
  {
   "cell_type": "code",
   "execution_count": 25,
   "metadata": {},
   "outputs": [],
   "source": [
    "# Removing NA values since all features are NA\n",
    "df.dropna(axis=0, inplace=True)"
   ]
  },
  {
   "cell_type": "code",
   "execution_count": 26,
   "metadata": {},
   "outputs": [
    {
     "data": {
      "text/plain": [
       "aian                  0\n",
       "asian                 0\n",
       "black                 0\n",
       "hispanic              0\n",
       "nhpi                  0\n",
       "non_resident_alien    0\n",
       "school                0\n",
       "school_id             0\n",
       "two_or_more           0\n",
       "unknown               0\n",
       "white                 0\n",
       "dtype: int64"
      ]
     },
     "execution_count": 26,
     "metadata": {},
     "output_type": "execute_result"
    }
   ],
   "source": [
    "df.isnull().sum()"
   ]
  },
  {
   "cell_type": "code",
   "execution_count": 27,
   "metadata": {},
   "outputs": [],
   "source": [
    "# Selecting the relevant ethnicities into a variable\n",
    "pvt_indexes = df.columns.tolist()[:6] + df.columns.tolist()[8:]\n",
    "\n",
    "# new data frame grouped by school with ethnicity columns then transposed\n",
    "# needed an aggregation for the groupby (.sum()), but there is only 1 value per ethnicity\n",
    "df_T = df.groupby('school')[pvt_indexes].sum().T"
   ]
  },
  {
   "cell_type": "code",
   "execution_count": 28,
   "metadata": {},
   "outputs": [
    {
     "data": {
      "text/html": [
       "<div>\n",
       "<style scoped>\n",
       "    .dataframe tbody tr th:only-of-type {\n",
       "        vertical-align: middle;\n",
       "    }\n",
       "\n",
       "    .dataframe tbody tr th {\n",
       "        vertical-align: top;\n",
       "    }\n",
       "\n",
       "    .dataframe thead th {\n",
       "        text-align: right;\n",
       "    }\n",
       "</style>\n",
       "<table border=\"1\" class=\"dataframe\">\n",
       "  <thead>\n",
       "    <tr style=\"text-align: right;\">\n",
       "      <th>school</th>\n",
       "      <th>A &amp; W Healthcare Educators</th>\n",
       "      <th>ABC Beauty Academy</th>\n",
       "      <th>ABC Beauty College Inc</th>\n",
       "      <th>ABCO Technology</th>\n",
       "      <th>AI Miami International University of Art and Design</th>\n",
       "      <th>AIB College of Business</th>\n",
       "      <th>AMG School of Licensed Practical Nursing</th>\n",
       "      <th>ASA College</th>\n",
       "      <th>ASI Career Institute</th>\n",
       "      <th>ASM Beauty World Academy</th>\n",
       "      <th>...</th>\n",
       "      <th>York Technical College</th>\n",
       "      <th>Young Harris College</th>\n",
       "      <th>Youngstown State University</th>\n",
       "      <th>Yuba College</th>\n",
       "      <th>Yukon Beauty College Inc</th>\n",
       "      <th>Z Hair Academy</th>\n",
       "      <th>ZMS The Academy</th>\n",
       "      <th>Zane State College</th>\n",
       "      <th>duCret School of Arts</th>\n",
       "      <th>eClips School of Cosmetology and Barbering</th>\n",
       "    </tr>\n",
       "  </thead>\n",
       "  <tbody>\n",
       "    <tr>\n",
       "      <th>aian</th>\n",
       "      <td>0.0</td>\n",
       "      <td>0.0000</td>\n",
       "      <td>0.0000</td>\n",
       "      <td>0.0000</td>\n",
       "      <td>0.0029</td>\n",
       "      <td>0.0029</td>\n",
       "      <td>0.0088</td>\n",
       "      <td>0.0004</td>\n",
       "      <td>0.00</td>\n",
       "      <td>0.0060</td>\n",
       "      <td>...</td>\n",
       "      <td>0.0082</td>\n",
       "      <td>0.0034</td>\n",
       "      <td>0.0022</td>\n",
       "      <td>0.0103</td>\n",
       "      <td>0.0</td>\n",
       "      <td>0.0187</td>\n",
       "      <td>0.0000</td>\n",
       "      <td>0.0032</td>\n",
       "      <td>0.0000</td>\n",
       "      <td>0.0</td>\n",
       "    </tr>\n",
       "    <tr>\n",
       "      <th>asian</th>\n",
       "      <td>0.0</td>\n",
       "      <td>0.8889</td>\n",
       "      <td>0.0000</td>\n",
       "      <td>0.1379</td>\n",
       "      <td>0.0079</td>\n",
       "      <td>0.0086</td>\n",
       "      <td>0.1150</td>\n",
       "      <td>0.0708</td>\n",
       "      <td>0.00</td>\n",
       "      <td>0.0361</td>\n",
       "      <td>...</td>\n",
       "      <td>0.0127</td>\n",
       "      <td>0.0111</td>\n",
       "      <td>0.0116</td>\n",
       "      <td>0.1143</td>\n",
       "      <td>0.0</td>\n",
       "      <td>0.0093</td>\n",
       "      <td>0.0459</td>\n",
       "      <td>0.0021</td>\n",
       "      <td>0.0741</td>\n",
       "      <td>0.0</td>\n",
       "    </tr>\n",
       "    <tr>\n",
       "      <th>black</th>\n",
       "      <td>1.0</td>\n",
       "      <td>0.0139</td>\n",
       "      <td>0.4286</td>\n",
       "      <td>0.3793</td>\n",
       "      <td>0.0920</td>\n",
       "      <td>0.0231</td>\n",
       "      <td>0.6814</td>\n",
       "      <td>0.3253</td>\n",
       "      <td>0.32</td>\n",
       "      <td>0.1205</td>\n",
       "      <td>...</td>\n",
       "      <td>0.2375</td>\n",
       "      <td>0.0660</td>\n",
       "      <td>0.1130</td>\n",
       "      <td>0.0341</td>\n",
       "      <td>0.0</td>\n",
       "      <td>0.0561</td>\n",
       "      <td>0.0275</td>\n",
       "      <td>0.0254</td>\n",
       "      <td>0.2222</td>\n",
       "      <td>1.0</td>\n",
       "    </tr>\n",
       "    <tr>\n",
       "      <th>hispanic</th>\n",
       "      <td>0.0</td>\n",
       "      <td>0.0833</td>\n",
       "      <td>0.0000</td>\n",
       "      <td>0.2414</td>\n",
       "      <td>0.3872</td>\n",
       "      <td>0.0576</td>\n",
       "      <td>0.1327</td>\n",
       "      <td>0.3658</td>\n",
       "      <td>0.12</td>\n",
       "      <td>0.7349</td>\n",
       "      <td>...</td>\n",
       "      <td>0.0575</td>\n",
       "      <td>0.0317</td>\n",
       "      <td>0.0381</td>\n",
       "      <td>0.3275</td>\n",
       "      <td>0.0</td>\n",
       "      <td>0.0467</td>\n",
       "      <td>0.6330</td>\n",
       "      <td>0.0021</td>\n",
       "      <td>0.1852</td>\n",
       "      <td>0.0</td>\n",
       "    </tr>\n",
       "    <tr>\n",
       "      <th>nhpi</th>\n",
       "      <td>0.0</td>\n",
       "      <td>0.0000</td>\n",
       "      <td>0.0000</td>\n",
       "      <td>0.0000</td>\n",
       "      <td>0.0012</td>\n",
       "      <td>0.0029</td>\n",
       "      <td>0.0000</td>\n",
       "      <td>0.0011</td>\n",
       "      <td>0.00</td>\n",
       "      <td>0.0000</td>\n",
       "      <td>...</td>\n",
       "      <td>0.0002</td>\n",
       "      <td>0.0026</td>\n",
       "      <td>0.0006</td>\n",
       "      <td>0.0040</td>\n",
       "      <td>0.0</td>\n",
       "      <td>0.0187</td>\n",
       "      <td>0.0000</td>\n",
       "      <td>0.0000</td>\n",
       "      <td>0.0000</td>\n",
       "      <td>0.0</td>\n",
       "    </tr>\n",
       "    <tr>\n",
       "      <th>non_resident_alien</th>\n",
       "      <td>0.0</td>\n",
       "      <td>0.0000</td>\n",
       "      <td>0.0000</td>\n",
       "      <td>0.0000</td>\n",
       "      <td>0.1886</td>\n",
       "      <td>0.0202</td>\n",
       "      <td>0.0000</td>\n",
       "      <td>0.1757</td>\n",
       "      <td>0.00</td>\n",
       "      <td>0.0000</td>\n",
       "      <td>...</td>\n",
       "      <td>0.0002</td>\n",
       "      <td>0.0772</td>\n",
       "      <td>0.0143</td>\n",
       "      <td>0.0005</td>\n",
       "      <td>0.0</td>\n",
       "      <td>0.0000</td>\n",
       "      <td>0.0000</td>\n",
       "      <td>0.0000</td>\n",
       "      <td>0.0000</td>\n",
       "      <td>0.0</td>\n",
       "    </tr>\n",
       "    <tr>\n",
       "      <th>two_or_more</th>\n",
       "      <td>0.0</td>\n",
       "      <td>0.0000</td>\n",
       "      <td>0.0000</td>\n",
       "      <td>0.0000</td>\n",
       "      <td>0.0091</td>\n",
       "      <td>0.0144</td>\n",
       "      <td>0.0000</td>\n",
       "      <td>0.0173</td>\n",
       "      <td>0.00</td>\n",
       "      <td>0.0000</td>\n",
       "      <td>...</td>\n",
       "      <td>0.0851</td>\n",
       "      <td>0.0223</td>\n",
       "      <td>0.0281</td>\n",
       "      <td>0.0659</td>\n",
       "      <td>0.0</td>\n",
       "      <td>0.0093</td>\n",
       "      <td>0.0000</td>\n",
       "      <td>0.0201</td>\n",
       "      <td>0.1111</td>\n",
       "      <td>0.0</td>\n",
       "    </tr>\n",
       "    <tr>\n",
       "      <th>unknown</th>\n",
       "      <td>0.0</td>\n",
       "      <td>0.0000</td>\n",
       "      <td>0.0000</td>\n",
       "      <td>0.0345</td>\n",
       "      <td>0.1745</td>\n",
       "      <td>0.4179</td>\n",
       "      <td>0.0088</td>\n",
       "      <td>0.0013</td>\n",
       "      <td>0.00</td>\n",
       "      <td>0.0000</td>\n",
       "      <td>...</td>\n",
       "      <td>0.0118</td>\n",
       "      <td>0.0257</td>\n",
       "      <td>0.0355</td>\n",
       "      <td>0.0300</td>\n",
       "      <td>0.0</td>\n",
       "      <td>0.0187</td>\n",
       "      <td>0.1193</td>\n",
       "      <td>0.2444</td>\n",
       "      <td>0.0370</td>\n",
       "      <td>0.0</td>\n",
       "    </tr>\n",
       "    <tr>\n",
       "      <th>white</th>\n",
       "      <td>0.0</td>\n",
       "      <td>0.0139</td>\n",
       "      <td>0.5714</td>\n",
       "      <td>0.2069</td>\n",
       "      <td>0.1364</td>\n",
       "      <td>0.4524</td>\n",
       "      <td>0.0531</td>\n",
       "      <td>0.0422</td>\n",
       "      <td>0.56</td>\n",
       "      <td>0.1024</td>\n",
       "      <td>...</td>\n",
       "      <td>0.5867</td>\n",
       "      <td>0.7599</td>\n",
       "      <td>0.7568</td>\n",
       "      <td>0.4134</td>\n",
       "      <td>1.0</td>\n",
       "      <td>0.8224</td>\n",
       "      <td>0.1743</td>\n",
       "      <td>0.7026</td>\n",
       "      <td>0.3704</td>\n",
       "      <td>0.0</td>\n",
       "    </tr>\n",
       "  </tbody>\n",
       "</table>\n",
       "<p>9 rows × 6740 columns</p>\n",
       "</div>"
      ],
      "text/plain": [
       "school              A & W Healthcare Educators  ABC Beauty Academy  \\\n",
       "aian                                       0.0              0.0000   \n",
       "asian                                      0.0              0.8889   \n",
       "black                                      1.0              0.0139   \n",
       "hispanic                                   0.0              0.0833   \n",
       "nhpi                                       0.0              0.0000   \n",
       "non_resident_alien                         0.0              0.0000   \n",
       "two_or_more                                0.0              0.0000   \n",
       "unknown                                    0.0              0.0000   \n",
       "white                                      0.0              0.0139   \n",
       "\n",
       "school              ABC Beauty College Inc  ABCO Technology  \\\n",
       "aian                                0.0000           0.0000   \n",
       "asian                               0.0000           0.1379   \n",
       "black                               0.4286           0.3793   \n",
       "hispanic                            0.0000           0.2414   \n",
       "nhpi                                0.0000           0.0000   \n",
       "non_resident_alien                  0.0000           0.0000   \n",
       "two_or_more                         0.0000           0.0000   \n",
       "unknown                             0.0000           0.0345   \n",
       "white                               0.5714           0.2069   \n",
       "\n",
       "school              AI Miami International University of Art and Design  \\\n",
       "aian                                                           0.0029     \n",
       "asian                                                          0.0079     \n",
       "black                                                          0.0920     \n",
       "hispanic                                                       0.3872     \n",
       "nhpi                                                           0.0012     \n",
       "non_resident_alien                                             0.1886     \n",
       "two_or_more                                                    0.0091     \n",
       "unknown                                                        0.1745     \n",
       "white                                                          0.1364     \n",
       "\n",
       "school              AIB College of Business  \\\n",
       "aian                                 0.0029   \n",
       "asian                                0.0086   \n",
       "black                                0.0231   \n",
       "hispanic                             0.0576   \n",
       "nhpi                                 0.0029   \n",
       "non_resident_alien                   0.0202   \n",
       "two_or_more                          0.0144   \n",
       "unknown                              0.4179   \n",
       "white                                0.4524   \n",
       "\n",
       "school              AMG School of Licensed Practical Nursing  ASA College  \\\n",
       "aian                                                  0.0088       0.0004   \n",
       "asian                                                 0.1150       0.0708   \n",
       "black                                                 0.6814       0.3253   \n",
       "hispanic                                              0.1327       0.3658   \n",
       "nhpi                                                  0.0000       0.0011   \n",
       "non_resident_alien                                    0.0000       0.1757   \n",
       "two_or_more                                           0.0000       0.0173   \n",
       "unknown                                               0.0088       0.0013   \n",
       "white                                                 0.0531       0.0422   \n",
       "\n",
       "school              ASI Career Institute  ASM Beauty World Academy  \\\n",
       "aian                                0.00                    0.0060   \n",
       "asian                               0.00                    0.0361   \n",
       "black                               0.32                    0.1205   \n",
       "hispanic                            0.12                    0.7349   \n",
       "nhpi                                0.00                    0.0000   \n",
       "non_resident_alien                  0.00                    0.0000   \n",
       "two_or_more                         0.00                    0.0000   \n",
       "unknown                             0.00                    0.0000   \n",
       "white                               0.56                    0.1024   \n",
       "\n",
       "school                                 ...                      \\\n",
       "aian                                   ...                       \n",
       "asian                                  ...                       \n",
       "black                                  ...                       \n",
       "hispanic                               ...                       \n",
       "nhpi                                   ...                       \n",
       "non_resident_alien                     ...                       \n",
       "two_or_more                            ...                       \n",
       "unknown                                ...                       \n",
       "white                                  ...                       \n",
       "\n",
       "school              York Technical College  Young Harris College  \\\n",
       "aian                                0.0082                0.0034   \n",
       "asian                               0.0127                0.0111   \n",
       "black                               0.2375                0.0660   \n",
       "hispanic                            0.0575                0.0317   \n",
       "nhpi                                0.0002                0.0026   \n",
       "non_resident_alien                  0.0002                0.0772   \n",
       "two_or_more                         0.0851                0.0223   \n",
       "unknown                             0.0118                0.0257   \n",
       "white                               0.5867                0.7599   \n",
       "\n",
       "school              Youngstown State University  Yuba College  \\\n",
       "aian                                     0.0022        0.0103   \n",
       "asian                                    0.0116        0.1143   \n",
       "black                                    0.1130        0.0341   \n",
       "hispanic                                 0.0381        0.3275   \n",
       "nhpi                                     0.0006        0.0040   \n",
       "non_resident_alien                       0.0143        0.0005   \n",
       "two_or_more                              0.0281        0.0659   \n",
       "unknown                                  0.0355        0.0300   \n",
       "white                                    0.7568        0.4134   \n",
       "\n",
       "school              Yukon Beauty College Inc  Z Hair Academy  ZMS The Academy  \\\n",
       "aian                                     0.0          0.0187           0.0000   \n",
       "asian                                    0.0          0.0093           0.0459   \n",
       "black                                    0.0          0.0561           0.0275   \n",
       "hispanic                                 0.0          0.0467           0.6330   \n",
       "nhpi                                     0.0          0.0187           0.0000   \n",
       "non_resident_alien                       0.0          0.0000           0.0000   \n",
       "two_or_more                              0.0          0.0093           0.0000   \n",
       "unknown                                  0.0          0.0187           0.1193   \n",
       "white                                    1.0          0.8224           0.1743   \n",
       "\n",
       "school              Zane State College  duCret School of Arts  \\\n",
       "aian                            0.0032                 0.0000   \n",
       "asian                           0.0021                 0.0741   \n",
       "black                           0.0254                 0.2222   \n",
       "hispanic                        0.0021                 0.1852   \n",
       "nhpi                            0.0000                 0.0000   \n",
       "non_resident_alien              0.0000                 0.0000   \n",
       "two_or_more                     0.0201                 0.1111   \n",
       "unknown                         0.2444                 0.0370   \n",
       "white                           0.7026                 0.3704   \n",
       "\n",
       "school              eClips School of Cosmetology and Barbering  \n",
       "aian                                                       0.0  \n",
       "asian                                                      0.0  \n",
       "black                                                      1.0  \n",
       "hispanic                                                   0.0  \n",
       "nhpi                                                       0.0  \n",
       "non_resident_alien                                         0.0  \n",
       "two_or_more                                                0.0  \n",
       "unknown                                                    0.0  \n",
       "white                                                      0.0  \n",
       "\n",
       "[9 rows x 6740 columns]"
      ]
     },
     "execution_count": 28,
     "metadata": {},
     "output_type": "execute_result"
    }
   ],
   "source": [
    "df_T"
   ]
  },
  {
   "cell_type": "code",
   "execution_count": 29,
   "metadata": {},
   "outputs": [
    {
     "data": {
      "text/plain": [
       "['aian',\n",
       " 'asian',\n",
       " 'black',\n",
       " 'hispanic',\n",
       " 'nhpi',\n",
       " 'non_resident_alien',\n",
       " 'two_or_more',\n",
       " 'unknown',\n",
       " 'white']"
      ]
     },
     "execution_count": 29,
     "metadata": {},
     "output_type": "execute_result"
    }
   ],
   "source": [
    "df_T.index.tolist()"
   ]
  },
  {
   "cell_type": "code",
   "execution_count": 30,
   "metadata": {},
   "outputs": [
    {
     "data": {
      "text/html": [
       "<div>\n",
       "<style scoped>\n",
       "    .dataframe tbody tr th:only-of-type {\n",
       "        vertical-align: middle;\n",
       "    }\n",
       "\n",
       "    .dataframe tbody tr th {\n",
       "        vertical-align: top;\n",
       "    }\n",
       "\n",
       "    .dataframe thead th {\n",
       "        text-align: right;\n",
       "    }\n",
       "</style>\n",
       "<table border=\"1\" class=\"dataframe\">\n",
       "  <thead>\n",
       "    <tr style=\"text-align: right;\">\n",
       "      <th></th>\n",
       "      <th>aian</th>\n",
       "      <th>asian</th>\n",
       "      <th>black</th>\n",
       "      <th>hispanic</th>\n",
       "      <th>nhpi</th>\n",
       "      <th>non_resident_alien</th>\n",
       "      <th>two_or_more</th>\n",
       "      <th>unknown</th>\n",
       "      <th>white</th>\n",
       "    </tr>\n",
       "  </thead>\n",
       "  <tbody>\n",
       "    <tr>\n",
       "      <th>0</th>\n",
       "      <td>1</td>\n",
       "      <td>0</td>\n",
       "      <td>0</td>\n",
       "      <td>0</td>\n",
       "      <td>0</td>\n",
       "      <td>0</td>\n",
       "      <td>0</td>\n",
       "      <td>0</td>\n",
       "      <td>0</td>\n",
       "    </tr>\n",
       "    <tr>\n",
       "      <th>1</th>\n",
       "      <td>0</td>\n",
       "      <td>1</td>\n",
       "      <td>0</td>\n",
       "      <td>0</td>\n",
       "      <td>0</td>\n",
       "      <td>0</td>\n",
       "      <td>0</td>\n",
       "      <td>0</td>\n",
       "      <td>0</td>\n",
       "    </tr>\n",
       "    <tr>\n",
       "      <th>2</th>\n",
       "      <td>0</td>\n",
       "      <td>0</td>\n",
       "      <td>1</td>\n",
       "      <td>0</td>\n",
       "      <td>0</td>\n",
       "      <td>0</td>\n",
       "      <td>0</td>\n",
       "      <td>0</td>\n",
       "      <td>0</td>\n",
       "    </tr>\n",
       "    <tr>\n",
       "      <th>3</th>\n",
       "      <td>0</td>\n",
       "      <td>0</td>\n",
       "      <td>0</td>\n",
       "      <td>1</td>\n",
       "      <td>0</td>\n",
       "      <td>0</td>\n",
       "      <td>0</td>\n",
       "      <td>0</td>\n",
       "      <td>0</td>\n",
       "    </tr>\n",
       "    <tr>\n",
       "      <th>4</th>\n",
       "      <td>0</td>\n",
       "      <td>0</td>\n",
       "      <td>0</td>\n",
       "      <td>0</td>\n",
       "      <td>1</td>\n",
       "      <td>0</td>\n",
       "      <td>0</td>\n",
       "      <td>0</td>\n",
       "      <td>0</td>\n",
       "    </tr>\n",
       "    <tr>\n",
       "      <th>5</th>\n",
       "      <td>0</td>\n",
       "      <td>0</td>\n",
       "      <td>0</td>\n",
       "      <td>0</td>\n",
       "      <td>0</td>\n",
       "      <td>1</td>\n",
       "      <td>0</td>\n",
       "      <td>0</td>\n",
       "      <td>0</td>\n",
       "    </tr>\n",
       "    <tr>\n",
       "      <th>6</th>\n",
       "      <td>0</td>\n",
       "      <td>0</td>\n",
       "      <td>0</td>\n",
       "      <td>0</td>\n",
       "      <td>0</td>\n",
       "      <td>0</td>\n",
       "      <td>1</td>\n",
       "      <td>0</td>\n",
       "      <td>0</td>\n",
       "    </tr>\n",
       "    <tr>\n",
       "      <th>7</th>\n",
       "      <td>0</td>\n",
       "      <td>0</td>\n",
       "      <td>0</td>\n",
       "      <td>0</td>\n",
       "      <td>0</td>\n",
       "      <td>0</td>\n",
       "      <td>0</td>\n",
       "      <td>1</td>\n",
       "      <td>0</td>\n",
       "    </tr>\n",
       "    <tr>\n",
       "      <th>8</th>\n",
       "      <td>0</td>\n",
       "      <td>0</td>\n",
       "      <td>0</td>\n",
       "      <td>0</td>\n",
       "      <td>0</td>\n",
       "      <td>0</td>\n",
       "      <td>0</td>\n",
       "      <td>0</td>\n",
       "      <td>1</td>\n",
       "    </tr>\n",
       "  </tbody>\n",
       "</table>\n",
       "</div>"
      ],
      "text/plain": [
       "   aian  asian  black  hispanic  nhpi  non_resident_alien  two_or_more  \\\n",
       "0     1      0      0         0     0                   0            0   \n",
       "1     0      1      0         0     0                   0            0   \n",
       "2     0      0      1         0     0                   0            0   \n",
       "3     0      0      0         1     0                   0            0   \n",
       "4     0      0      0         0     1                   0            0   \n",
       "5     0      0      0         0     0                   1            0   \n",
       "6     0      0      0         0     0                   0            1   \n",
       "7     0      0      0         0     0                   0            0   \n",
       "8     0      0      0         0     0                   0            0   \n",
       "\n",
       "   unknown  white  \n",
       "0        0      0  \n",
       "1        0      0  \n",
       "2        0      0  \n",
       "3        0      0  \n",
       "4        0      0  \n",
       "5        0      0  \n",
       "6        0      0  \n",
       "7        1      0  \n",
       "8        0      1  "
      ]
     },
     "execution_count": 30,
     "metadata": {},
     "output_type": "execute_result"
    }
   ],
   "source": [
    "pd.get_dummies(df_T.index)"
   ]
  },
  {
   "cell_type": "code",
   "execution_count": 31,
   "metadata": {},
   "outputs": [
    {
     "data": {
      "text/plain": [
       "Index(['aian', 'asian', 'black', 'hispanic', 'nhpi', 'non_resident_alien',\n",
       "       'two_or_more', 'unknown', 'white'],\n",
       "      dtype='object', name='eddie')"
      ]
     },
     "execution_count": 31,
     "metadata": {},
     "output_type": "execute_result"
    }
   ],
   "source": [
    "df_T.index.rename('eddie')"
   ]
  },
  {
   "cell_type": "code",
   "execution_count": 32,
   "metadata": {},
   "outputs": [],
   "source": [
    "# Join get dummies with DataFrame\n",
    "df_T = pd.concat([df_T.reset_index(),pd.get_dummies(df_T.index)],axis=1)\n",
    "\n",
    "# Remove the index name\n",
    "df_T.index.rename('',inplace=True)\n",
    "\n",
    "# Change the column name with races to 'race'\n",
    "df_T.rename(columns={'index':'race'}, inplace=True)"
   ]
  },
  {
   "cell_type": "code",
   "execution_count": 33,
   "metadata": {
    "scrolled": false
   },
   "outputs": [
    {
     "data": {
      "text/html": [
       "<div>\n",
       "<style scoped>\n",
       "    .dataframe tbody tr th:only-of-type {\n",
       "        vertical-align: middle;\n",
       "    }\n",
       "\n",
       "    .dataframe tbody tr th {\n",
       "        vertical-align: top;\n",
       "    }\n",
       "\n",
       "    .dataframe thead th {\n",
       "        text-align: right;\n",
       "    }\n",
       "</style>\n",
       "<table border=\"1\" class=\"dataframe\">\n",
       "  <thead>\n",
       "    <tr style=\"text-align: right;\">\n",
       "      <th></th>\n",
       "      <th>race</th>\n",
       "      <th>A &amp; W Healthcare Educators</th>\n",
       "      <th>ABC Beauty Academy</th>\n",
       "      <th>ABC Beauty College Inc</th>\n",
       "      <th>ABCO Technology</th>\n",
       "      <th>AI Miami International University of Art and Design</th>\n",
       "      <th>AIB College of Business</th>\n",
       "      <th>AMG School of Licensed Practical Nursing</th>\n",
       "      <th>ASA College</th>\n",
       "      <th>ASI Career Institute</th>\n",
       "      <th>...</th>\n",
       "      <th>eClips School of Cosmetology and Barbering</th>\n",
       "      <th>aian</th>\n",
       "      <th>asian</th>\n",
       "      <th>black</th>\n",
       "      <th>hispanic</th>\n",
       "      <th>nhpi</th>\n",
       "      <th>non_resident_alien</th>\n",
       "      <th>two_or_more</th>\n",
       "      <th>unknown</th>\n",
       "      <th>white</th>\n",
       "    </tr>\n",
       "    <tr>\n",
       "      <th></th>\n",
       "      <th></th>\n",
       "      <th></th>\n",
       "      <th></th>\n",
       "      <th></th>\n",
       "      <th></th>\n",
       "      <th></th>\n",
       "      <th></th>\n",
       "      <th></th>\n",
       "      <th></th>\n",
       "      <th></th>\n",
       "      <th></th>\n",
       "      <th></th>\n",
       "      <th></th>\n",
       "      <th></th>\n",
       "      <th></th>\n",
       "      <th></th>\n",
       "      <th></th>\n",
       "      <th></th>\n",
       "      <th></th>\n",
       "      <th></th>\n",
       "      <th></th>\n",
       "    </tr>\n",
       "  </thead>\n",
       "  <tbody>\n",
       "    <tr>\n",
       "      <th>0</th>\n",
       "      <td>aian</td>\n",
       "      <td>0.0</td>\n",
       "      <td>0.0000</td>\n",
       "      <td>0.0000</td>\n",
       "      <td>0.0000</td>\n",
       "      <td>0.0029</td>\n",
       "      <td>0.0029</td>\n",
       "      <td>0.0088</td>\n",
       "      <td>0.0004</td>\n",
       "      <td>0.00</td>\n",
       "      <td>...</td>\n",
       "      <td>0.0</td>\n",
       "      <td>1</td>\n",
       "      <td>0</td>\n",
       "      <td>0</td>\n",
       "      <td>0</td>\n",
       "      <td>0</td>\n",
       "      <td>0</td>\n",
       "      <td>0</td>\n",
       "      <td>0</td>\n",
       "      <td>0</td>\n",
       "    </tr>\n",
       "    <tr>\n",
       "      <th>1</th>\n",
       "      <td>asian</td>\n",
       "      <td>0.0</td>\n",
       "      <td>0.8889</td>\n",
       "      <td>0.0000</td>\n",
       "      <td>0.1379</td>\n",
       "      <td>0.0079</td>\n",
       "      <td>0.0086</td>\n",
       "      <td>0.1150</td>\n",
       "      <td>0.0708</td>\n",
       "      <td>0.00</td>\n",
       "      <td>...</td>\n",
       "      <td>0.0</td>\n",
       "      <td>0</td>\n",
       "      <td>1</td>\n",
       "      <td>0</td>\n",
       "      <td>0</td>\n",
       "      <td>0</td>\n",
       "      <td>0</td>\n",
       "      <td>0</td>\n",
       "      <td>0</td>\n",
       "      <td>0</td>\n",
       "    </tr>\n",
       "    <tr>\n",
       "      <th>2</th>\n",
       "      <td>black</td>\n",
       "      <td>1.0</td>\n",
       "      <td>0.0139</td>\n",
       "      <td>0.4286</td>\n",
       "      <td>0.3793</td>\n",
       "      <td>0.0920</td>\n",
       "      <td>0.0231</td>\n",
       "      <td>0.6814</td>\n",
       "      <td>0.3253</td>\n",
       "      <td>0.32</td>\n",
       "      <td>...</td>\n",
       "      <td>1.0</td>\n",
       "      <td>0</td>\n",
       "      <td>0</td>\n",
       "      <td>1</td>\n",
       "      <td>0</td>\n",
       "      <td>0</td>\n",
       "      <td>0</td>\n",
       "      <td>0</td>\n",
       "      <td>0</td>\n",
       "      <td>0</td>\n",
       "    </tr>\n",
       "    <tr>\n",
       "      <th>3</th>\n",
       "      <td>hispanic</td>\n",
       "      <td>0.0</td>\n",
       "      <td>0.0833</td>\n",
       "      <td>0.0000</td>\n",
       "      <td>0.2414</td>\n",
       "      <td>0.3872</td>\n",
       "      <td>0.0576</td>\n",
       "      <td>0.1327</td>\n",
       "      <td>0.3658</td>\n",
       "      <td>0.12</td>\n",
       "      <td>...</td>\n",
       "      <td>0.0</td>\n",
       "      <td>0</td>\n",
       "      <td>0</td>\n",
       "      <td>0</td>\n",
       "      <td>1</td>\n",
       "      <td>0</td>\n",
       "      <td>0</td>\n",
       "      <td>0</td>\n",
       "      <td>0</td>\n",
       "      <td>0</td>\n",
       "    </tr>\n",
       "    <tr>\n",
       "      <th>4</th>\n",
       "      <td>nhpi</td>\n",
       "      <td>0.0</td>\n",
       "      <td>0.0000</td>\n",
       "      <td>0.0000</td>\n",
       "      <td>0.0000</td>\n",
       "      <td>0.0012</td>\n",
       "      <td>0.0029</td>\n",
       "      <td>0.0000</td>\n",
       "      <td>0.0011</td>\n",
       "      <td>0.00</td>\n",
       "      <td>...</td>\n",
       "      <td>0.0</td>\n",
       "      <td>0</td>\n",
       "      <td>0</td>\n",
       "      <td>0</td>\n",
       "      <td>0</td>\n",
       "      <td>1</td>\n",
       "      <td>0</td>\n",
       "      <td>0</td>\n",
       "      <td>0</td>\n",
       "      <td>0</td>\n",
       "    </tr>\n",
       "    <tr>\n",
       "      <th>5</th>\n",
       "      <td>non_resident_alien</td>\n",
       "      <td>0.0</td>\n",
       "      <td>0.0000</td>\n",
       "      <td>0.0000</td>\n",
       "      <td>0.0000</td>\n",
       "      <td>0.1886</td>\n",
       "      <td>0.0202</td>\n",
       "      <td>0.0000</td>\n",
       "      <td>0.1757</td>\n",
       "      <td>0.00</td>\n",
       "      <td>...</td>\n",
       "      <td>0.0</td>\n",
       "      <td>0</td>\n",
       "      <td>0</td>\n",
       "      <td>0</td>\n",
       "      <td>0</td>\n",
       "      <td>0</td>\n",
       "      <td>1</td>\n",
       "      <td>0</td>\n",
       "      <td>0</td>\n",
       "      <td>0</td>\n",
       "    </tr>\n",
       "    <tr>\n",
       "      <th>6</th>\n",
       "      <td>two_or_more</td>\n",
       "      <td>0.0</td>\n",
       "      <td>0.0000</td>\n",
       "      <td>0.0000</td>\n",
       "      <td>0.0000</td>\n",
       "      <td>0.0091</td>\n",
       "      <td>0.0144</td>\n",
       "      <td>0.0000</td>\n",
       "      <td>0.0173</td>\n",
       "      <td>0.00</td>\n",
       "      <td>...</td>\n",
       "      <td>0.0</td>\n",
       "      <td>0</td>\n",
       "      <td>0</td>\n",
       "      <td>0</td>\n",
       "      <td>0</td>\n",
       "      <td>0</td>\n",
       "      <td>0</td>\n",
       "      <td>1</td>\n",
       "      <td>0</td>\n",
       "      <td>0</td>\n",
       "    </tr>\n",
       "    <tr>\n",
       "      <th>7</th>\n",
       "      <td>unknown</td>\n",
       "      <td>0.0</td>\n",
       "      <td>0.0000</td>\n",
       "      <td>0.0000</td>\n",
       "      <td>0.0345</td>\n",
       "      <td>0.1745</td>\n",
       "      <td>0.4179</td>\n",
       "      <td>0.0088</td>\n",
       "      <td>0.0013</td>\n",
       "      <td>0.00</td>\n",
       "      <td>...</td>\n",
       "      <td>0.0</td>\n",
       "      <td>0</td>\n",
       "      <td>0</td>\n",
       "      <td>0</td>\n",
       "      <td>0</td>\n",
       "      <td>0</td>\n",
       "      <td>0</td>\n",
       "      <td>0</td>\n",
       "      <td>1</td>\n",
       "      <td>0</td>\n",
       "    </tr>\n",
       "    <tr>\n",
       "      <th>8</th>\n",
       "      <td>white</td>\n",
       "      <td>0.0</td>\n",
       "      <td>0.0139</td>\n",
       "      <td>0.5714</td>\n",
       "      <td>0.2069</td>\n",
       "      <td>0.1364</td>\n",
       "      <td>0.4524</td>\n",
       "      <td>0.0531</td>\n",
       "      <td>0.0422</td>\n",
       "      <td>0.56</td>\n",
       "      <td>...</td>\n",
       "      <td>0.0</td>\n",
       "      <td>0</td>\n",
       "      <td>0</td>\n",
       "      <td>0</td>\n",
       "      <td>0</td>\n",
       "      <td>0</td>\n",
       "      <td>0</td>\n",
       "      <td>0</td>\n",
       "      <td>0</td>\n",
       "      <td>1</td>\n",
       "    </tr>\n",
       "  </tbody>\n",
       "</table>\n",
       "<p>9 rows × 6750 columns</p>\n",
       "</div>"
      ],
      "text/plain": [
       "                 race  A & W Healthcare Educators  ABC Beauty Academy  \\\n",
       "                                                                        \n",
       "0                aian                         0.0              0.0000   \n",
       "1               asian                         0.0              0.8889   \n",
       "2               black                         1.0              0.0139   \n",
       "3            hispanic                         0.0              0.0833   \n",
       "4                nhpi                         0.0              0.0000   \n",
       "5  non_resident_alien                         0.0              0.0000   \n",
       "6         two_or_more                         0.0              0.0000   \n",
       "7             unknown                         0.0              0.0000   \n",
       "8               white                         0.0              0.0139   \n",
       "\n",
       "   ABC Beauty College Inc  ABCO Technology  \\\n",
       "                                             \n",
       "0                  0.0000           0.0000   \n",
       "1                  0.0000           0.1379   \n",
       "2                  0.4286           0.3793   \n",
       "3                  0.0000           0.2414   \n",
       "4                  0.0000           0.0000   \n",
       "5                  0.0000           0.0000   \n",
       "6                  0.0000           0.0000   \n",
       "7                  0.0000           0.0345   \n",
       "8                  0.5714           0.2069   \n",
       "\n",
       "   AI Miami International University of Art and Design  \\\n",
       "                                                         \n",
       "0                                             0.0029     \n",
       "1                                             0.0079     \n",
       "2                                             0.0920     \n",
       "3                                             0.3872     \n",
       "4                                             0.0012     \n",
       "5                                             0.1886     \n",
       "6                                             0.0091     \n",
       "7                                             0.1745     \n",
       "8                                             0.1364     \n",
       "\n",
       "   AIB College of Business  AMG School of Licensed Practical Nursing  \\\n",
       "                                                                       \n",
       "0                   0.0029                                    0.0088   \n",
       "1                   0.0086                                    0.1150   \n",
       "2                   0.0231                                    0.6814   \n",
       "3                   0.0576                                    0.1327   \n",
       "4                   0.0029                                    0.0000   \n",
       "5                   0.0202                                    0.0000   \n",
       "6                   0.0144                                    0.0000   \n",
       "7                   0.4179                                    0.0088   \n",
       "8                   0.4524                                    0.0531   \n",
       "\n",
       "   ASA College  ASI Career Institute  ...    \\\n",
       "                                      ...     \n",
       "0       0.0004                  0.00  ...     \n",
       "1       0.0708                  0.00  ...     \n",
       "2       0.3253                  0.32  ...     \n",
       "3       0.3658                  0.12  ...     \n",
       "4       0.0011                  0.00  ...     \n",
       "5       0.1757                  0.00  ...     \n",
       "6       0.0173                  0.00  ...     \n",
       "7       0.0013                  0.00  ...     \n",
       "8       0.0422                  0.56  ...     \n",
       "\n",
       "   eClips School of Cosmetology and Barbering  aian  asian  black  hispanic  \\\n",
       "                                                                              \n",
       "0                                         0.0     1      0      0         0   \n",
       "1                                         0.0     0      1      0         0   \n",
       "2                                         1.0     0      0      1         0   \n",
       "3                                         0.0     0      0      0         1   \n",
       "4                                         0.0     0      0      0         0   \n",
       "5                                         0.0     0      0      0         0   \n",
       "6                                         0.0     0      0      0         0   \n",
       "7                                         0.0     0      0      0         0   \n",
       "8                                         0.0     0      0      0         0   \n",
       "\n",
       "   nhpi  non_resident_alien  two_or_more  unknown  white  \n",
       "                                                          \n",
       "0     0                   0            0        0      0  \n",
       "1     0                   0            0        0      0  \n",
       "2     0                   0            0        0      0  \n",
       "3     0                   0            0        0      0  \n",
       "4     1                   0            0        0      0  \n",
       "5     0                   1            0        0      0  \n",
       "6     0                   0            1        0      0  \n",
       "7     0                   0            0        1      0  \n",
       "8     0                   0            0        0      1  \n",
       "\n",
       "[9 rows x 6750 columns]"
      ]
     },
     "execution_count": 33,
     "metadata": {},
     "output_type": "execute_result"
    }
   ],
   "source": [
    "df_T"
   ]
  },
  {
   "cell_type": "code",
   "execution_count": 34,
   "metadata": {},
   "outputs": [],
   "source": [
    "# defining X (numerical data only)\n",
    "X = df_T.copy().drop('race',axis=1)\n",
    "\n",
    "# standardize data since there are a mix of binary an fraction data\n",
    "ss = StandardScaler()\n",
    "X_scaled = ss.fit_transform(X)\n",
    "\n",
    "Z = linkage(X_scaled, 'ward')"
   ]
  },
  {
   "cell_type": "code",
   "execution_count": 42,
   "metadata": {},
   "outputs": [
    {
     "name": "stdout",
     "output_type": "stream",
     "text": [
      "24.31\n",
      "31.56\n",
      "35.58\n",
      "46.94\n",
      "62.27\n",
      "126.0\n",
      "151.9\n",
      "270.8\n"
     ]
    }
   ],
   "source": [
    "for i in Z.tolist():\n",
    "    print('{:.4}'.format(i[2]))"
   ]
  },
  {
   "cell_type": "code",
   "execution_count": 43,
   "metadata": {},
   "outputs": [
    {
     "data": {
      "text/plain": [
       "0.990964205886011"
      ]
     },
     "execution_count": 43,
     "metadata": {},
     "output_type": "execute_result"
    }
   ],
   "source": [
    "# \n",
    "c, coph_diss = cophenet(Z,pdist(X))\n",
    "c"
   ]
  },
  {
   "cell_type": "markdown",
   "metadata": {},
   "source": [
    "## Dendrogram of the Data"
   ]
  },
  {
   "cell_type": "code",
   "execution_count": 51,
   "metadata": {},
   "outputs": [],
   "source": [
    "labels={0:'aian', 1:'asian', 2:'black', 3:'hispanic', 4:'nhpi',\n",
    "                                    5:'non_resident_alien', 6:'two_or_more', 7:'unknown', 8:'white'}"
   ]
  },
  {
   "cell_type": "code",
   "execution_count": 112,
   "metadata": {
    "scrolled": false
   },
   "outputs": [
    {
     "data": {
      "image/png": "[encoded data removed]",
      "text/plain": [
       "<matplotlib.figure.Figure at 0x13238b2b0>"
      ]
     },
     "metadata": {},
     "output_type": "display_data"
    }
   ],
   "source": [
    "# Plotting:  You can see that there are 2 dstinct groupings of data\n",
    "plt.figure(figsize=(20,10))\n",
    "plt.yticks(fontsize = 18)\n",
    "plt.title('Dendrogram', fontsize = 25)\n",
    "plt.xlabel('Ethnicity', fontsize=20)\n",
    "plt.ylabel('Distance', fontsize=20)\n",
    "dendrogram(   # this plost the dendrogram\n",
    "    Z,\n",
    "    leaf_rotation=45,  \n",
    "    leaf_font_size=18,\n",
    "    labels=df_T['race'].tolist()\n",
    "    )\n",
    "\n",
    "plt.show()"
   ]
  },
  {
   "cell_type": "code",
   "execution_count": 77,
   "metadata": {},
   "outputs": [],
   "source": [
    "# DataFrame with out the One_Hot_Encoded features for parametric evaluation\n",
    "df_T_eval = df_T.iloc[:,:6741]"
   ]
  },
  {
   "cell_type": "markdown",
   "metadata": {},
   "source": [
    "## Asian, AIAN, NHPI, Non_Resident_Alien, Unknown, Two_or_More"
   ]
  },
  {
   "cell_type": "code",
   "execution_count": null,
   "metadata": {},
   "outputs": [],
   "source": [
    "# Middle Grouping Top 10\n",
    "df_T_eval.iloc[[0,1,5,7,4,6]].describe().T['mean'].sort_values(ascending=False)[:10]"
   ]
  },
  {
   "cell_type": "code",
   "execution_count": 98,
   "metadata": {},
   "outputs": [
    {
     "data": {
      "text/plain": [
       "Haskell Indian Nations University            1.0\n",
       "Southwestern Indian Polytechnic Institute    1.0\n",
       "Name: mean, dtype: float64"
      ]
     },
     "execution_count": 98,
     "metadata": {},
     "output_type": "execute_result"
    }
   ],
   "source": [
    "# Top 2 AIAN\n",
    "df_T_eval.iloc[[0]].describe().T['mean'].sort_values(ascending=False)[:2]"
   ]
  },
  {
   "cell_type": "code",
   "execution_count": 99,
   "metadata": {},
   "outputs": [
    {
     "data": {
      "text/plain": [
       "My Le's Beauty College                 1.4891\n",
       "Cosmopolitan Beauty and Tech School    1.4557\n",
       "Name: mean, dtype: float64"
      ]
     },
     "execution_count": 99,
     "metadata": {},
     "output_type": "execute_result"
    }
   ],
   "source": [
    "# Top 2 ASIAN\n",
    "df_T_eval.iloc[[1]].describe().T['mean'].sort_values(ascending=False)[:2]"
   ]
  },
  {
   "cell_type": "code",
   "execution_count": 100,
   "metadata": {},
   "outputs": [
    {
     "data": {
      "text/plain": [
       "IGlobal University                 0.9868\n",
       "Unilatina International College    0.9600\n",
       "Name: mean, dtype: float64"
      ]
     },
     "execution_count": 100,
     "metadata": {},
     "output_type": "execute_result"
    }
   ],
   "source": [
    "# Top 2 Non_resident_alien\n",
    "df_T_eval.iloc[[5]].describe().T['mean'].sort_values(ascending=False)[:2]"
   ]
  },
  {
   "cell_type": "code",
   "execution_count": 101,
   "metadata": {},
   "outputs": [
    {
     "data": {
      "text/plain": [
       "Regency Beauty Institute-Knoxville     0.8750\n",
       "Regency Beauty Institute-Fort Myers    0.8571\n",
       "Name: mean, dtype: float64"
      ]
     },
     "execution_count": 101,
     "metadata": {},
     "output_type": "execute_result"
    }
   ],
   "source": [
    "# Top 2 Unknown\n",
    "df_T_eval.iloc[[7]].describe().T['mean'].sort_values(ascending=False)[:2]"
   ]
  },
  {
   "cell_type": "code",
   "execution_count": 102,
   "metadata": {},
   "outputs": [
    {
     "data": {
      "text/plain": [
       "College of Micronesia-FSM    0.9995\n",
       "Palau Community College      0.9968\n",
       "Name: mean, dtype: float64"
      ]
     },
     "execution_count": 102,
     "metadata": {},
     "output_type": "execute_result"
    }
   ],
   "source": [
    "# Top 2 NHPI\n",
    "df_T_eval.iloc[[4]].describe().T['mean'].sort_values(ascending=False)[:2]"
   ]
  },
  {
   "cell_type": "code",
   "execution_count": 103,
   "metadata": {},
   "outputs": [
    {
     "data": {
      "text/plain": [
       "Paul Mitchell the School-Murfreesboro    1.0000\n",
       "Sunnyside Beauty Academy                 0.6923\n",
       "Name: mean, dtype: float64"
      ]
     },
     "execution_count": 103,
     "metadata": {},
     "output_type": "execute_result"
    }
   ],
   "source": [
    "# Top 2 Two_or_more\n",
    "df_T_eval.iloc[[6]].describe().T['mean'].sort_values(ascending=False)[:2]"
   ]
  },
  {
   "cell_type": "code",
   "execution_count": 111,
   "metadata": {},
   "outputs": [
    {
     "data": {
      "text/plain": [
       "Hair Academy Inc-New Carrollton                                   0.0\n",
       "Hair Academy II                                                   0.0\n",
       "Hair Academy                                                      0.0\n",
       "HSHS St. John's Hospital School of Clinical Laboratory Science    0.0\n",
       "A & W Healthcare Educators                                        0.0\n",
       "Name: mean, dtype: float64"
      ]
     },
     "execution_count": 111,
     "metadata": {},
     "output_type": "execute_result"
    }
   ],
   "source": [
    "# Bottom 5 middle group\n",
    "df_T_eval.iloc[[0,1,5,7,4,6]].describe().T['mean'].sort_values(ascending=False)[-5:]"
   ]
  },
  {
   "cell_type": "code",
   "execution_count": 87,
   "metadata": {
    "scrolled": true
   },
   "outputs": [
    {
     "data": {
      "text/html": [
       "<div>\n",
       "<style scoped>\n",
       "    .dataframe tbody tr th:only-of-type {\n",
       "        vertical-align: middle;\n",
       "    }\n",
       "\n",
       "    .dataframe tbody tr th {\n",
       "        vertical-align: top;\n",
       "    }\n",
       "\n",
       "    .dataframe thead th {\n",
       "        text-align: right;\n",
       "    }\n",
       "</style>\n",
       "<table border=\"1\" class=\"dataframe\">\n",
       "  <thead>\n",
       "    <tr style=\"text-align: right;\">\n",
       "      <th></th>\n",
       "      <th>race</th>\n",
       "      <th>Unitek College</th>\n",
       "      <th>Cosmopolitan Beauty and Tech School</th>\n",
       "      <th>Columbia College</th>\n",
       "    </tr>\n",
       "    <tr>\n",
       "      <th></th>\n",
       "      <th></th>\n",
       "      <th></th>\n",
       "      <th></th>\n",
       "      <th></th>\n",
       "    </tr>\n",
       "  </thead>\n",
       "  <tbody>\n",
       "    <tr>\n",
       "      <th>1</th>\n",
       "      <td>asian</td>\n",
       "      <td>0.7743</td>\n",
       "      <td>1.4557</td>\n",
       "      <td>0.9862</td>\n",
       "    </tr>\n",
       "    <tr>\n",
       "      <th>7</th>\n",
       "      <td>unknown</td>\n",
       "      <td>0.6607</td>\n",
       "      <td>0.1429</td>\n",
       "      <td>0.0624</td>\n",
       "    </tr>\n",
       "    <tr>\n",
       "      <th>3</th>\n",
       "      <td>hispanic</td>\n",
       "      <td>0.4808</td>\n",
       "      <td>0.0000</td>\n",
       "      <td>0.5501</td>\n",
       "    </tr>\n",
       "    <tr>\n",
       "      <th>4</th>\n",
       "      <td>nhpi</td>\n",
       "      <td>0.3323</td>\n",
       "      <td>0.0000</td>\n",
       "      <td>0.0073</td>\n",
       "    </tr>\n",
       "    <tr>\n",
       "      <th>8</th>\n",
       "      <td>white</td>\n",
       "      <td>0.3236</td>\n",
       "      <td>0.1497</td>\n",
       "      <td>2.1611</td>\n",
       "    </tr>\n",
       "    <tr>\n",
       "      <th>6</th>\n",
       "      <td>two_or_more</td>\n",
       "      <td>0.1582</td>\n",
       "      <td>0.0476</td>\n",
       "      <td>0.1401</td>\n",
       "    </tr>\n",
       "    <tr>\n",
       "      <th>2</th>\n",
       "      <td>black</td>\n",
       "      <td>0.1255</td>\n",
       "      <td>0.1973</td>\n",
       "      <td>0.6655</td>\n",
       "    </tr>\n",
       "    <tr>\n",
       "      <th>5</th>\n",
       "      <td>non_resident_alien</td>\n",
       "      <td>0.0794</td>\n",
       "      <td>0.0068</td>\n",
       "      <td>0.3930</td>\n",
       "    </tr>\n",
       "    <tr>\n",
       "      <th>0</th>\n",
       "      <td>aian</td>\n",
       "      <td>0.0651</td>\n",
       "      <td>0.0000</td>\n",
       "      <td>0.0342</td>\n",
       "    </tr>\n",
       "  </tbody>\n",
       "</table>\n",
       "</div>"
      ],
      "text/plain": [
       "                 race  Unitek College  Cosmopolitan Beauty and Tech School  \\\n",
       "                                                                             \n",
       "1               asian          0.7743                               1.4557   \n",
       "7             unknown          0.6607                               0.1429   \n",
       "3            hispanic          0.4808                               0.0000   \n",
       "4                nhpi          0.3323                               0.0000   \n",
       "8               white          0.3236                               0.1497   \n",
       "6         two_or_more          0.1582                               0.0476   \n",
       "2               black          0.1255                               0.1973   \n",
       "5  non_resident_alien          0.0794                               0.0068   \n",
       "0                aian          0.0651                               0.0000   \n",
       "\n",
       "   Columbia College  \n",
       "                     \n",
       "1            0.9862  \n",
       "7            0.0624  \n",
       "3            0.5501  \n",
       "4            0.0073  \n",
       "8            2.1611  \n",
       "6            0.1401  \n",
       "2            0.6655  \n",
       "5            0.3930  \n",
       "0            0.0342  "
      ]
     },
     "execution_count": 87,
     "metadata": {},
     "output_type": "execute_result"
    }
   ],
   "source": [
    "# Top 3 Colleges Raw Data\n",
    "df_T[['race','Unitek College','Cosmopolitan Beauty and Tech School','Columbia College']]\\\n",
    "    .sort_values('Unitek College',ascending=False)"
   ]
  },
  {
   "cell_type": "markdown",
   "metadata": {},
   "source": [
    "## Hispanic, Black"
   ]
  },
  {
   "cell_type": "code",
   "execution_count": 79,
   "metadata": {},
   "outputs": [
    {
     "data": {
      "text/plain": [
       "Cannella School of Hair Design-Chicago        1.43885\n",
       "Interactive College of Technology             1.35715\n",
       "Dewey University-Hato Rey                     1.00000\n",
       "Fayette Beauty Academy-Ritz Beauty Academy    1.00000\n",
       "American University of Puerto Rico            1.00000\n",
       "Career Point College                          0.99560\n",
       "Trend Barber College                          0.98215\n",
       "Hollywood Institute of Beauty Careers         0.87690\n",
       "McCann School of Business & Technology        0.87365\n",
       "American College of Healthcare                0.86235\n",
       "Name: mean, dtype: float64"
      ]
     },
     "execution_count": 79,
     "metadata": {},
     "output_type": "execute_result"
    }
   ],
   "source": [
    "# Right Group Top 10\n",
    "df_T_eval.iloc[[2,3]].describe().T['mean'].sort_values(ascending=False)[:10]"
   ]
  },
  {
   "cell_type": "code",
   "execution_count": 110,
   "metadata": {},
   "outputs": [
    {
     "data": {
      "text/plain": [
       "Mifflin County Academy of Science and Technology    0.0\n",
       "Sandra Academy of Salon Services Inc                0.0\n",
       "Mineral County Vocational Technical Center          0.0\n",
       "Mingo Extended Learning Center                      0.0\n",
       "Fountain of Youth Academy of Cosmetology            0.0\n",
       "Name: mean, dtype: float64"
      ]
     },
     "execution_count": 110,
     "metadata": {},
     "output_type": "execute_result"
    }
   ],
   "source": [
    "# Right Group Bottom 5\n",
    "df_T_eval.iloc[[2,3]].describe().T['mean'].sort_values(ascending=False)[-5:]"
   ]
  },
  {
   "cell_type": "code",
   "execution_count": 104,
   "metadata": {},
   "outputs": [
    {
     "data": {
      "text/plain": [
       "Fayette Beauty Academy-Ritz Beauty Academy    2.0000\n",
       "Trend Barber College                          1.8482\n",
       "Name: mean, dtype: float64"
      ]
     },
     "execution_count": 104,
     "metadata": {},
     "output_type": "execute_result"
    }
   ],
   "source": [
    "# Top 2 Black\n",
    "df_T_eval.iloc[[2]].describe().T['mean'].sort_values(ascending=False)[:2]"
   ]
  },
  {
   "cell_type": "code",
   "execution_count": 105,
   "metadata": {},
   "outputs": [
    {
     "data": {
      "text/plain": [
       "Interactive College of Technology     2.1536\n",
       "American University of Puerto Rico    2.0000\n",
       "Name: mean, dtype: float64"
      ]
     },
     "execution_count": 105,
     "metadata": {},
     "output_type": "execute_result"
    }
   ],
   "source": [
    "# Top 2 Hispanic\n",
    "df_T_eval.iloc[[3]].describe().T['mean'].sort_values(ascending=False)[:2]"
   ]
  },
  {
   "cell_type": "code",
   "execution_count": 91,
   "metadata": {},
   "outputs": [
    {
     "data": {
      "text/html": [
       "<div>\n",
       "<style scoped>\n",
       "    .dataframe tbody tr th:only-of-type {\n",
       "        vertical-align: middle;\n",
       "    }\n",
       "\n",
       "    .dataframe tbody tr th {\n",
       "        vertical-align: top;\n",
       "    }\n",
       "\n",
       "    .dataframe thead th {\n",
       "        text-align: right;\n",
       "    }\n",
       "</style>\n",
       "<table border=\"1\" class=\"dataframe\">\n",
       "  <thead>\n",
       "    <tr style=\"text-align: right;\">\n",
       "      <th></th>\n",
       "      <th>race</th>\n",
       "      <th>Cannella School of Hair Design-Chicago</th>\n",
       "      <th>Interactive College of Technology</th>\n",
       "      <th>Dewey University-Hato Rey</th>\n",
       "    </tr>\n",
       "    <tr>\n",
       "      <th></th>\n",
       "      <th></th>\n",
       "      <th></th>\n",
       "      <th></th>\n",
       "      <th></th>\n",
       "    </tr>\n",
       "  </thead>\n",
       "  <tbody>\n",
       "    <tr>\n",
       "      <th>3</th>\n",
       "      <td>hispanic</td>\n",
       "      <td>1.8843</td>\n",
       "      <td>2.1536</td>\n",
       "      <td>2.0</td>\n",
       "    </tr>\n",
       "    <tr>\n",
       "      <th>2</th>\n",
       "      <td>black</td>\n",
       "      <td>0.9934</td>\n",
       "      <td>0.5607</td>\n",
       "      <td>0.0</td>\n",
       "    </tr>\n",
       "    <tr>\n",
       "      <th>7</th>\n",
       "      <td>unknown</td>\n",
       "      <td>0.0939</td>\n",
       "      <td>0.0000</td>\n",
       "      <td>0.0</td>\n",
       "    </tr>\n",
       "    <tr>\n",
       "      <th>1</th>\n",
       "      <td>asian</td>\n",
       "      <td>0.0189</td>\n",
       "      <td>0.2333</td>\n",
       "      <td>0.0</td>\n",
       "    </tr>\n",
       "    <tr>\n",
       "      <th>8</th>\n",
       "      <td>white</td>\n",
       "      <td>0.0094</td>\n",
       "      <td>0.0524</td>\n",
       "      <td>0.0</td>\n",
       "    </tr>\n",
       "    <tr>\n",
       "      <th>0</th>\n",
       "      <td>aian</td>\n",
       "      <td>0.0000</td>\n",
       "      <td>0.0000</td>\n",
       "      <td>0.0</td>\n",
       "    </tr>\n",
       "    <tr>\n",
       "      <th>4</th>\n",
       "      <td>nhpi</td>\n",
       "      <td>0.0000</td>\n",
       "      <td>0.0000</td>\n",
       "      <td>0.0</td>\n",
       "    </tr>\n",
       "    <tr>\n",
       "      <th>5</th>\n",
       "      <td>non_resident_alien</td>\n",
       "      <td>0.0000</td>\n",
       "      <td>0.0000</td>\n",
       "      <td>0.0</td>\n",
       "    </tr>\n",
       "    <tr>\n",
       "      <th>6</th>\n",
       "      <td>two_or_more</td>\n",
       "      <td>0.0000</td>\n",
       "      <td>0.0000</td>\n",
       "      <td>0.0</td>\n",
       "    </tr>\n",
       "  </tbody>\n",
       "</table>\n",
       "</div>"
      ],
      "text/plain": [
       "                 race  Cannella School of Hair Design-Chicago  \\\n",
       "                                                                \n",
       "3            hispanic                                  1.8843   \n",
       "2               black                                  0.9934   \n",
       "7             unknown                                  0.0939   \n",
       "1               asian                                  0.0189   \n",
       "8               white                                  0.0094   \n",
       "0                aian                                  0.0000   \n",
       "4                nhpi                                  0.0000   \n",
       "5  non_resident_alien                                  0.0000   \n",
       "6         two_or_more                                  0.0000   \n",
       "\n",
       "   Interactive College of Technology  Dewey University-Hato Rey  \n",
       "                                                                 \n",
       "3                             2.1536                        2.0  \n",
       "2                             0.5607                        0.0  \n",
       "7                             0.0000                        0.0  \n",
       "1                             0.2333                        0.0  \n",
       "8                             0.0524                        0.0  \n",
       "0                             0.0000                        0.0  \n",
       "4                             0.0000                        0.0  \n",
       "5                             0.0000                        0.0  \n",
       "6                             0.0000                        0.0  "
      ]
     },
     "execution_count": 91,
     "metadata": {},
     "output_type": "execute_result"
    }
   ],
   "source": [
    "# Top 3 Colleges Raw Data\n",
    "df_T[['race','Cannella School of Hair Design-Chicago','Interactive College of Technology',\\\n",
    "      'Dewey University-Hato Rey']].sort_values('Cannella School of Hair Design-Chicago', ascending=False)"
   ]
  },
  {
   "cell_type": "markdown",
   "metadata": {},
   "source": [
    "## White"
   ]
  },
  {
   "cell_type": "code",
   "execution_count": 94,
   "metadata": {},
   "outputs": [
    {
     "data": {
      "text/plain": [
       "Stevens-Henager College                                         4.4453\n",
       "All Beauty College                                              2.4450\n",
       "Bryan University                                                2.4331\n",
       "Finger Lakes School of Massage                                  2.4306\n",
       "Academy of Cosmetology                                          2.3277\n",
       "Columbia College                                                2.1611\n",
       "Westminster College                                             2.1536\n",
       "Cosmetology Careers Unlimited College of Hair Skin and Nails    2.0000\n",
       "Union College                                                   1.9924\n",
       "Jenny Lea Academy of Cosmetology                                1.9200\n",
       "Name: mean, dtype: float64"
      ]
     },
     "execution_count": 94,
     "metadata": {},
     "output_type": "execute_result"
    }
   ],
   "source": [
    "# Left Group Top 10\n",
    "df_T_eval.iloc[[8]].describe().T['mean'].sort_values(ascending=False)[:10]"
   ]
  },
  {
   "cell_type": "code",
   "execution_count": 109,
   "metadata": {},
   "outputs": [
    {
     "data": {
      "text/plain": [
       "Global Institute                     0.0\n",
       "Grace College of Barbering           0.0\n",
       "Grace International Beauty School    0.0\n",
       "Grace Mission University             0.0\n",
       "A & W Healthcare Educators           0.0\n",
       "Name: mean, dtype: float64"
      ]
     },
     "execution_count": 109,
     "metadata": {},
     "output_type": "execute_result"
    }
   ],
   "source": [
    "# Left Group Bottom 5\n",
    "df_T_eval.iloc[[8]].describe().T['mean'].sort_values(ascending=False)[-5:]"
   ]
  },
  {
   "cell_type": "code",
   "execution_count": 96,
   "metadata": {},
   "outputs": [
    {
     "data": {
      "text/html": [
       "<div>\n",
       "<style scoped>\n",
       "    .dataframe tbody tr th:only-of-type {\n",
       "        vertical-align: middle;\n",
       "    }\n",
       "\n",
       "    .dataframe tbody tr th {\n",
       "        vertical-align: top;\n",
       "    }\n",
       "\n",
       "    .dataframe thead th {\n",
       "        text-align: right;\n",
       "    }\n",
       "</style>\n",
       "<table border=\"1\" class=\"dataframe\">\n",
       "  <thead>\n",
       "    <tr style=\"text-align: right;\">\n",
       "      <th></th>\n",
       "      <th>race</th>\n",
       "      <th>Stevens-Henager College</th>\n",
       "      <th>All Beauty College</th>\n",
       "      <th>Bryan University</th>\n",
       "    </tr>\n",
       "    <tr>\n",
       "      <th></th>\n",
       "      <th></th>\n",
       "      <th></th>\n",
       "      <th></th>\n",
       "      <th></th>\n",
       "    </tr>\n",
       "  </thead>\n",
       "  <tbody>\n",
       "    <tr>\n",
       "      <th>8</th>\n",
       "      <td>white</td>\n",
       "      <td>4.4453</td>\n",
       "      <td>2.4450</td>\n",
       "      <td>2.4331</td>\n",
       "    </tr>\n",
       "    <tr>\n",
       "      <th>3</th>\n",
       "      <td>hispanic</td>\n",
       "      <td>1.0602</td>\n",
       "      <td>0.5217</td>\n",
       "      <td>0.5504</td>\n",
       "    </tr>\n",
       "    <tr>\n",
       "      <th>7</th>\n",
       "      <td>unknown</td>\n",
       "      <td>0.5533</td>\n",
       "      <td>0.0000</td>\n",
       "      <td>0.4107</td>\n",
       "    </tr>\n",
       "    <tr>\n",
       "      <th>6</th>\n",
       "      <td>two_or_more</td>\n",
       "      <td>0.3281</td>\n",
       "      <td>0.0000</td>\n",
       "      <td>0.1502</td>\n",
       "    </tr>\n",
       "    <tr>\n",
       "      <th>2</th>\n",
       "      <td>black</td>\n",
       "      <td>0.2666</td>\n",
       "      <td>0.0000</td>\n",
       "      <td>1.0719</td>\n",
       "    </tr>\n",
       "    <tr>\n",
       "      <th>0</th>\n",
       "      <td>aian</td>\n",
       "      <td>0.2069</td>\n",
       "      <td>0.0000</td>\n",
       "      <td>0.0771</td>\n",
       "    </tr>\n",
       "    <tr>\n",
       "      <th>4</th>\n",
       "      <td>nhpi</td>\n",
       "      <td>0.0803</td>\n",
       "      <td>0.0000</td>\n",
       "      <td>0.1857</td>\n",
       "    </tr>\n",
       "    <tr>\n",
       "      <th>1</th>\n",
       "      <td>asian</td>\n",
       "      <td>0.0594</td>\n",
       "      <td>0.0333</td>\n",
       "      <td>0.1210</td>\n",
       "    </tr>\n",
       "    <tr>\n",
       "      <th>5</th>\n",
       "      <td>non_resident_alien</td>\n",
       "      <td>0.0000</td>\n",
       "      <td>0.0000</td>\n",
       "      <td>0.0000</td>\n",
       "    </tr>\n",
       "  </tbody>\n",
       "</table>\n",
       "</div>"
      ],
      "text/plain": [
       "                 race  Stevens-Henager College  All Beauty College  \\\n",
       "                                                                     \n",
       "8               white                   4.4453              2.4450   \n",
       "3            hispanic                   1.0602              0.5217   \n",
       "7             unknown                   0.5533              0.0000   \n",
       "6         two_or_more                   0.3281              0.0000   \n",
       "2               black                   0.2666              0.0000   \n",
       "0                aian                   0.2069              0.0000   \n",
       "4                nhpi                   0.0803              0.0000   \n",
       "1               asian                   0.0594              0.0333   \n",
       "5  non_resident_alien                   0.0000              0.0000   \n",
       "\n",
       "   Bryan University  \n",
       "                     \n",
       "8            2.4331  \n",
       "3            0.5504  \n",
       "7            0.4107  \n",
       "6            0.1502  \n",
       "2            1.0719  \n",
       "0            0.0771  \n",
       "4            0.1857  \n",
       "1            0.1210  \n",
       "5            0.0000  "
      ]
     },
     "execution_count": 96,
     "metadata": {},
     "output_type": "execute_result"
    }
   ],
   "source": [
    "# Top 3 Colleges Raw Data\n",
    "df_T[['race','Stevens-Henager College','All Beauty College','Bryan University']]\\\n",
    "    .sort_values('Stevens-Henager College', ascending=False)"
   ]
  }
 ],
 "metadata": {
  "kernelspec": {
   "display_name": "Python 3",
   "language": "python",
   "name": "python3"
  },
  "language_info": {
   "codemirror_mode": {
    "name": "ipython",
    "version": 3
   },
   "file_extension": ".py",
   "mimetype": "text/x-python",
   "name": "python",
   "nbconvert_exporter": "python",
   "pygments_lexer": "ipython3",
   "version": "3.6.4"
  }
 },
 "nbformat": 4,
 "nbformat_minor": 2
}
